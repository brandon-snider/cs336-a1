{
 "cells": [
  {
   "cell_type": "code",
   "execution_count": null,
   "metadata": {},
   "outputs": [
    {
     "name": "stdout",
     "output_type": "stream",
     "text": [
      "Pre-checkpoint\n",
      "I am going toze leopardities Lovebed whistled inter break stories grabbing dockickedalloween� RiriHarry met carrying Becky tiny gl nuts reapp marshmallows thu certaint apologised game perctedy\n",
      "----------------------------------------------------------------------------------------------------\n",
      "Post-checkpoint\n",
      "I am going toinglyMomma Rebecca vo prickly shade river pretty\n",
      "  cast diamonds song cupcakes sailing% accomplished surviveScothy am fallen� insist passen neare teaspoon hatedess kinder whose search theirs\n"
     ]
    }
   ],
   "source": [
    "import torch\n",
    "from cs336_basics.transformer import Transformer\n",
    "from cs336_basics.tokenizer import Tokenizer\n",
    "from cs336_basics.train import Config, load_config\n",
    "from cs336_basics.checkpointing import load_checkpoint\n",
    "from cs336_basics.decoding import decode\n",
    "\n",
    "vocab_path = \"../out/tokenizers/ts-train/vocab.txt\"\n",
    "merges_path = \"../out/tokenizers/ts-train/merges.txt\"\n",
    "\n",
    "tokenizer = Tokenizer.from_files(vocab_path, merges_path, special_tokens=[\"<|endoftext|>\"])\n",
    "\n",
    "config = Config(load_config())\n",
    "model = Transformer(**config.model, device=\"mps\", dtype=torch.float32)\n",
    "model.to(\"mps\")\n",
    "\n",
    "print(\"Pre-checkpoint\")\n",
    "print(decode(model, tokenizer, \"I am going to\"))\n",
    "\n",
    "checkpoint = \"../out/runs/latest/checkpoints/latest.pt\"\n",
    "load_checkpoint(checkpoint, model)\n",
    "\n",
    "print(\"-\" * 100)\n",
    "\n",
    "print(\"Post-checkpoint\")\n",
    "print(decode(model, tokenizer, \"I am going to\"))"
   ]
  }
 ],
 "metadata": {
  "kernelspec": {
   "display_name": ".venv",
   "language": "python",
   "name": "python3"
  },
  "language_info": {
   "codemirror_mode": {
    "name": "ipython",
    "version": 3
   },
   "file_extension": ".py",
   "mimetype": "text/x-python",
   "name": "python",
   "nbconvert_exporter": "python",
   "pygments_lexer": "ipython3",
   "version": "3.12.4"
  }
 },
 "nbformat": 4,
 "nbformat_minor": 2
}
